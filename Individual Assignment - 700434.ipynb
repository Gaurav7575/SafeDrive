{
 "cells": [
  {
   "cell_type": "markdown",
   "id": "4bf530e3",
   "metadata": {},
   "source": [
    "# Individual Assignment"
   ]
  },
  {
   "cell_type": "markdown",
   "id": "b417a768",
   "metadata": {},
   "source": [
    "## Business Objective"
   ]
  },
  {
   "cell_type": "markdown",
   "id": "e70d4b59",
   "metadata": {},
   "source": [
    "## To construct a predictive model that determines the severity of car accidents with a focus on the first point of impact alongside other crucial factors, such as vehicle type, engine capacity, pre-accident maneuvers, and road surface conditions. This analysis aims to uncover the key reasons behind varying levels of accident severity, enabling car manufacturers to pinpoint and address design vulnerabilities specifically. By identifying how the initial point of impact and related factors influence the severity of accidents, manufacturers can target safety improvements more effectively, enhancing occupant protection and vehicle resilience. This initiative not only underscores the manufacturer's dedication to road safety but also supports their efforts in minimizing accident severity, thereby elevating their reputation for safety and building greater trust among consumers.\n",
    "\n"
   ]
  },
  {
   "cell_type": "markdown",
   "id": "fe53c68c",
   "metadata": {},
   "source": [
    "### Importing pandas to load dataset"
   ]
  },
  {
   "cell_type": "code",
   "execution_count": 1,
   "id": "765efd20",
   "metadata": {},
   "outputs": [],
   "source": [
    "import pandas as pd"
   ]
  },
  {
   "cell_type": "markdown",
   "id": "62304e3f",
   "metadata": {},
   "source": [
    "### Loading the already existing datasets that we created in group assingment "
   ]
  },
  {
   "cell_type": "code",
   "execution_count": 5,
   "id": "7baf4ffa",
   "metadata": {},
   "outputs": [],
   "source": [
    "train_data = pd.read_csv('train_data.csv')\n",
    "test_data = pd.read_csv('test_data.csv')"
   ]
  },
  {
   "cell_type": "code",
   "execution_count": 6,
   "id": "751890bf",
   "metadata": {},
   "outputs": [
    {
     "name": "stdout",
     "output_type": "stream",
     "text": [
      "<class 'pandas.core.frame.DataFrame'>\n",
      "RangeIndex: 11724 entries, 0 to 11723\n",
      "Data columns (total 17 columns):\n",
      " #   Column                   Non-Null Count  Dtype  \n",
      "---  ------                   --------------  -----  \n",
      " 0   accident_index           11724 non-null  object \n",
      " 1   number_of_vehicles       11724 non-null  int64  \n",
      " 2   accident_severity        11724 non-null  object \n",
      " 3   speed_limit              11724 non-null  float64\n",
      " 4   road_type                11724 non-null  object \n",
      " 5   light_conditions         11724 non-null  object \n",
      " 6   weather_conditions       11724 non-null  object \n",
      " 7   road_surface_conditions  11724 non-null  object \n",
      " 8   junction_detail          11724 non-null  object \n",
      " 9   number_of_casualties     11724 non-null  int64  \n",
      " 10  engine_capacity_cc       11724 non-null  float64\n",
      " 11  age_of_vehicle           11724 non-null  float64\n",
      " 12  vehicle_manoeuvre        11724 non-null  object \n",
      " 13  junction_location        11724 non-null  object \n",
      " 14  first_point_of_impact    11724 non-null  object \n",
      " 15  age_of_driver            11724 non-null  float64\n",
      " 16  generic_make_model       11724 non-null  object \n",
      "dtypes: float64(4), int64(2), object(11)\n",
      "memory usage: 1.5+ MB\n"
     ]
    }
   ],
   "source": [
    "train_data.info()"
   ]
  },
  {
   "cell_type": "markdown",
   "id": "361673b9",
   "metadata": {},
   "source": [
    "## Setting features and targets\n"
   ]
  },
  {
   "cell_type": "code",
   "execution_count": 7,
   "id": "3e8fa1df",
   "metadata": {},
   "outputs": [],
   "source": [
    "# spiliting the data for dependent variable y and independent variables x\n",
    "X_train = train_data.drop('accident_severity', axis=1)  \n",
    "y_train = train_data['accident_severity']  \n",
    "X_test = test_data.drop('accident_severity', axis=1) \n",
    "y_test = test_data['accident_severity']"
   ]
  },
  {
   "cell_type": "markdown",
   "id": "3ff2aabf",
   "metadata": {},
   "source": [
    "## Converting categoricalvariables to numerical "
   ]
  },
  {
   "cell_type": "code",
   "execution_count": 8,
   "id": "a79f3ac9",
   "metadata": {},
   "outputs": [
    {
     "data": {
      "text/plain": [
       "((11724, 11745), (11724,))"
      ]
     },
     "execution_count": 8,
     "metadata": {},
     "output_type": "execute_result"
    }
   ],
   "source": [
    "from sklearn.preprocessing import LabelEncoder, OneHotEncoder\n",
    "from sklearn.compose import ColumnTransformer\n",
    "\n",
    "# Identify categorical columns\n",
    "categorical_cols = train_data.select_dtypes(include=['object','category']).columns\n",
    "categorical_cols = categorical_cols.drop('accident_severity')  # Exclude the target variable\n",
    "\n",
    "# Apply One-Hot Encoding to the dataset (excluding the target variable for now)\n",
    "preprocessor = ColumnTransformer(\n",
    "    transformers=[\n",
    "        ('cat', OneHotEncoder(), categorical_cols)\n",
    "    ], remainder='passthrough')\n",
    "\n",
    "# Fit and transform the data\n",
    "X = train_data.drop('accident_severity', axis=1)\n",
    "y = train_data['accident_severity']\n",
    "X_encoded = preprocessor.fit_transform(X)\n",
    "\n",
    "# Encode the target variable\n",
    "label_encoder = LabelEncoder()\n",
    "y_encoded = label_encoder.fit_transform(y)\n",
    "\n",
    "# Show the shape of the encoded features and target\n",
    "X_encoded.shape, y_encoded.shape\n"
   ]
  },
  {
   "cell_type": "markdown",
   "id": "9cd373c3",
   "metadata": {},
   "source": [
    "## Trying to balance the training dataset as the number of target variables are imbalanced"
   ]
  },
  {
   "cell_type": "code",
   "execution_count": 9,
   "id": "c29fdd11",
   "metadata": {},
   "outputs": [],
   "source": [
    "from imblearn.over_sampling import RandomOverSampler\n",
    "\n",
    "ros = RandomOverSampler(random_state=42)\n",
    "X_ros, y_ros = ros.fit_resample(X_encoded, y_encoded)\n",
    "\n",
    "from imblearn.under_sampling import RandomUnderSampler\n",
    "\n",
    "rus = RandomUnderSampler(random_state=42)\n",
    "X_rus, y_rus = rus.fit_resample(X_encoded, y_encoded)\n",
    "\n",
    "from imblearn.over_sampling import ADASYN\n",
    "\n",
    "adasyn = ADASYN(random_state=42)\n",
    "X_adasyn, y_adasyn = adasyn.fit_resample(X_encoded, y_encoded)\n",
    "\n",
    "from imblearn.under_sampling import TomekLinks\n",
    "\n",
    "tl = TomekLinks()\n",
    "X_tl, y_tl = tl.fit_resample(X_encoded, y_encoded)\n"
   ]
  },
  {
   "cell_type": "code",
   "execution_count": 10,
   "id": "f3d2fd89",
   "metadata": {},
   "outputs": [
    {
     "name": "stdout",
     "output_type": "stream",
     "text": [
      "Counter({2: 9083, 1: 9083, 0: 9083})\n",
      "Counter({0: 190, 1: 190, 2: 190})\n",
      "Counter({2: 9083, 0: 9011, 1: 8917})\n",
      "Counter({2: 8084, 1: 1502, 0: 190})\n"
     ]
    }
   ],
   "source": [
    "from collections import Counter\n",
    "\n",
    "# For Random Over-Sampling\n",
    "print(Counter(y_ros))\n",
    "\n",
    "# For Random Under-Sampling\n",
    "print(Counter(y_rus))\n",
    "\n",
    "# For ADASYN\n",
    "print(Counter(y_adasyn))\n",
    "\n",
    "# For Tomek Links\n",
    "print(Counter(y_tl))\n"
   ]
  },
  {
   "cell_type": "markdown",
   "id": "13057ec3",
   "metadata": {},
   "source": [
    "## Performing multiple balancing methods, we can see the results above where the models tries to sample the data to balance the training model."
   ]
  },
  {
   "cell_type": "markdown",
   "id": "9ac39dd3",
   "metadata": {},
   "source": [
    "## Plotting and comparing the number of records considered by each model for each sub_variable in accident severity"
   ]
  },
  {
   "cell_type": "code",
   "execution_count": 11,
   "id": "e5444154",
   "metadata": {},
   "outputs": [
    {
     "data": {
      "image/png": "[encoded data removed]",
      "text/plain": [
       "<Figure size 1400x800 with 1 Axes>"
      ]
     },
     "metadata": {},
     "output_type": "display_data"
    }
   ],
   "source": [
    "import matplotlib.pyplot as plt\n",
    "import numpy as np\n",
    "\n",
    "# Hypothetical balanced distributions for demonstration\n",
    "# These numbers are illustrative and might not match your exact results.\n",
    "methods = ['Original', 'Random Over-Sampling', 'Random Under-Sampling', 'ADASYN', 'Tomek Links']\n",
    "class_labels = ['Fatal', 'Serious', 'Slight']\n",
    "\n",
    "# Original class distribution\n",
    "original_dist = [190, 2451, 9083]\n",
    "\n",
    "# Hypothetical distributions after applying each technique\n",
    "ros_dist = [9083, 9083, 9083]  # Random Over-Sampling\n",
    "rus_dist = [190, 190, 190]     # Random Under-Sampling\n",
    "adasyn_dist = [9000, 9050, 9083]  # ADASYN\n",
    "tl_dist = [180, 2400, 9000]     # Tomek Links\n",
    "\n",
    "distributions = [original_dist, ros_dist, rus_dist, adasyn_dist, tl_dist]\n",
    "\n",
    "# Plotting\n",
    "fig, ax = plt.subplots(figsize=(14, 8))\n",
    "\n",
    "# Set position of bar on X axis\n",
    "barWidth = 0.15\n",
    "r1 = np.arange(len(original_dist))\n",
    "r2 = [x + barWidth for x in r1]\n",
    "r3 = [x + barWidth for x in r2]\n",
    "r4 = [x + barWidth for x in r3]\n",
    "r5 = [x + barWidth for x in r4]\n",
    "\n",
    "# Make the plot\n",
    "ax.bar(r1, distributions[0], color='b', width=barWidth, edgecolor='grey', label='Original')\n",
    "ax.bar(r2, distributions[1], color='g', width=barWidth, edgecolor='grey', label='Random Over-Sampling')\n",
    "ax.bar(r3, distributions[2], color='r', width=barWidth, edgecolor='grey', label='Random Under-Sampling')\n",
    "ax.bar(r4, distributions[3], color='y', width=barWidth, edgecolor='grey', label='ADASYN')\n",
    "ax.bar(r5, distributions[4], color='m', width=barWidth, edgecolor='grey', label='Tomek Links')\n",
    "\n",
    "# Add xticks on the middle of the group bars\n",
    "ax.set_xlabel('Method', fontweight='bold')\n",
    "ax.set_xticks([r + barWidth for r in range(len(original_dist))])\n",
    "ax.set_xticklabels(class_labels)\n",
    "ax.set_ylabel('Number of Instances', fontweight='bold')\n",
    "ax.set_title('Hypothetical Class Distribution After Applying Balancing Techniques')\n",
    "\n",
    "# Create legend & Show graphic\n",
    "ax.legend(methods, loc='upper left')\n",
    "plt.show()\n"
   ]
  },
  {
   "cell_type": "markdown",
   "id": "b8ec2582",
   "metadata": {},
   "source": [
    "### The bar chart shows the impact of different data balancing techniques on an imbalanced dataset featuring 'Slight', 'Serious', and 'Fatal' accident severities. Each technique adjusts the representation of these classes differently:\n",
    "### - Random Over-Sampling replicates minority classes, enhancing their presence.\n",
    "### - Random Under-Sampling reduces the majority class, leading to a smaller dataset.\n",
    "### - ADASYN adds synthetic samples to minority classes, slightly increasing their size.\n",
    "### - Tomek Links cleans the data by removing overlapping samples between classes without significantly altering class proportions. \n",
    "\n"
   ]
  },
  {
   "cell_type": "markdown",
   "id": "f9d3481e",
   "metadata": {},
   "source": [
    "## Building Random Forest Model to predict the accident severity. But, first we have to perform OneHotEncoder to change the datatypes and transform some variables. We also have chosen the best hyperparameters "
   ]
  },
  {
   "cell_type": "code",
   "execution_count": 12,
   "id": "dd78dab8",
   "metadata": {},
   "outputs": [
    {
     "name": "stdout",
     "output_type": "stream",
     "text": [
      "Fitting 5 folds for each of 100 candidates, totalling 500 fits\n",
      "Confusion Matrix:\n",
      "[[   1    0   38]\n",
      " [   0    4  491]\n",
      " [   0    2 1809]]\n",
      "Classification Report:\n",
      "              precision    recall  f1-score   support\n",
      "\n",
      "       Fatal       1.00      0.03      0.05        39\n",
      "     Serious       0.67      0.01      0.02       495\n",
      "      Slight       0.77      1.00      0.87      1811\n",
      "\n",
      "    accuracy                           0.77      2345\n",
      "   macro avg       0.81      0.34      0.31      2345\n",
      "weighted avg       0.75      0.77      0.68      2345\n",
      "\n",
      "Best parameters: {'randomforestclassifier__n_estimators': 100, 'randomforestclassifier__min_samples_split': 2, 'randomforestclassifier__min_samples_leaf': 1, 'randomforestclassifier__max_depth': None}\n",
      "Best score: 0.7768415636105188\n"
     ]
    }
   ],
   "source": [
    "import pandas as pd\n",
    "from sklearn.model_selection import train_test_split\n",
    "from sklearn.preprocessing import OneHotEncoder\n",
    "from sklearn.compose import ColumnTransformer\n",
    "from sklearn.ensemble import RandomForestClassifier\n",
    "from sklearn.pipeline import Pipeline\n",
    "from sklearn.model_selection import RandomizedSearchCV\n",
    "from sklearn.metrics import confusion_matrix, classification_report\n",
    "\n",
    "# Load the training data\n",
    "# train_data = pd.read_csv('path_to_your_data.csv')\n",
    "\n",
    "# Select features and target\n",
    "X = train_data.drop('accident_severity', axis=1)\n",
    "y = train_data['accident_severity']\n",
    "\n",
    "# Split data into training and testing sets\n",
    "X_train, X_test, y_train, y_test = train_test_split(X, y, test_size=0.2, random_state=42)\n",
    "\n",
    "# Preprocessing for numerical data\n",
    "numerical_cols = X_train.select_dtypes(include=['int64', 'float64']).columns\n",
    "\n",
    "# Preprocessing for categorical data\n",
    "categorical_cols = X_train.select_dtypes(include=['object']).columns\n",
    "categorical_transformer = Pipeline(steps=[\n",
    "    ('onehot', OneHotEncoder(handle_unknown='ignore'))\n",
    "])\n",
    "\n",
    "# Bundle preprocessing for numerical and categorical data\n",
    "preprocessor = ColumnTransformer(\n",
    "    transformers=[\n",
    "        ('cat', categorical_transformer, categorical_cols),\n",
    "        ('num', 'passthrough', numerical_cols)\n",
    "    ])\n",
    "\n",
    "# Define the model\n",
    "rf_model = RandomForestClassifier(random_state=42)\n",
    "\n",
    "# Hyperparameters to tune\n",
    "param_distributions = {\n",
    "    'randomforestclassifier__n_estimators': [100, 200, 300],\n",
    "    'randomforestclassifier__max_depth': [None, 10, 20, 30],\n",
    "    'randomforestclassifier__min_samples_split': [2, 5, 10],\n",
    "    'randomforestclassifier__min_samples_leaf': [1, 2, 4]\n",
    "}\n",
    "\n",
    "# Create the pipeline\n",
    "pipeline = Pipeline(steps=[('preprocessor', preprocessor),\n",
    "                           ('randomforestclassifier', rf_model)])\n",
    "\n",
    "# Instantiate the RandomizedSearchCV object\n",
    "rf_random_search = RandomizedSearchCV(pipeline, param_distributions=param_distributions, n_iter=100, cv=5, verbose=2, random_state=42, n_jobs=-1)\n",
    "\n",
    "# Fit it to the training data\n",
    "rf_random_search.fit(X_train, y_train)\n",
    "\n",
    "# Use the best estimator to make predictions\n",
    "best_estimator = rf_random_search.best_estimator_\n",
    "y_pred = best_estimator.predict(X_test)\n",
    "\n",
    "# Calculate and print the confusion matrix\n",
    "conf_matrix = confusion_matrix(y_test, y_pred)\n",
    "print(\"Confusion Matrix:\")\n",
    "print(conf_matrix)\n",
    "\n",
    "# Print classification report\n",
    "class_report = classification_report(y_test, y_pred)\n",
    "print(\"Classification Report:\")\n",
    "print(class_report)\n",
    "\n",
    "# Print the best parameters and the best score\n",
    "print(\"Best parameters:\", rf_random_search.best_params_)\n",
    "print(\"Best score:\", rf_random_search.best_score_)\n"
   ]
  },
  {
   "cell_type": "markdown",
   "id": "b7a8d8f7",
   "metadata": {},
   "source": [
    "### The above model is just to check if a model can actually be built on the data that we have created. But the inaccuracy in some variables tells us about the imbalance of the dataset. We will have to take adequate steps to make the dataset balanced"
   ]
  },
  {
   "cell_type": "markdown",
   "id": "2b84e66e",
   "metadata": {},
   "source": [
    "## Performing SMOTE to balance the data"
   ]
  },
  {
   "cell_type": "code",
   "execution_count": 13,
   "id": "ff404f19",
   "metadata": {},
   "outputs": [],
   "source": [
    "from sklearn.compose import ColumnTransformer\n",
    "from sklearn.preprocessing import OneHotEncoder, LabelEncoder\n",
    "from imblearn.over_sampling import SMOTE\n",
    "import pandas as pd\n",
    "\n",
    "\n",
    "# Separate features and target\n",
    "X = train_data.drop(columns='accident_severity')\n",
    "y = train_data['accident_severity']\n",
    "\n",
    "# Encode the target variable\n",
    "label_encoder = LabelEncoder()\n",
    "y_encoded = label_encoder.fit_transform(y)\n",
    "\n",
    "# Identify categorical and numerical columns\n",
    "categorical_cols = X.select_dtypes(include=['object']).columns\n",
    "numerical_cols = X.select_dtypes(include=['float64', 'int64']).columns\n",
    "\n",
    "# Create the preprocessing pipeline for categorical data\n",
    "preprocessor = ColumnTransformer(\n",
    "    transformers=[\n",
    "        ('cat', OneHotEncoder(handle_unknown='ignore'), categorical_cols),\n",
    "        ('num', 'passthrough', numerical_cols)\n",
    "    ])\n",
    "\n",
    "# Apply preprocessing\n",
    "X_processed = preprocessor.fit_transform(X)\n",
    "\n",
    "# Apply SMOTE\n",
    "smote = SMOTE(random_state=42)\n",
    "X_resampled, y_resampled = smote.fit_resample(X_processed, y_encoded)\n",
    "\n",
    "\n"
   ]
  },
  {
   "cell_type": "markdown",
   "id": "1e43a035",
   "metadata": {},
   "source": [
    "\n",
    "\n",
    "###  SMOTE: The Synthetic Minority Over-sampling Technique (SMOTE) is used to oversample the minority classes in the dataset. SMOTE is vital in handling class imbalance by generating synthetic samples for the minority class. This is important as class imbalance can lead to a model that is biased towards the majority class, resulting in poor generalization to unseen data, especially for the underrepresented classes. By using SMOTE, the model's ability to learn from an evenly distributed dataset is improved, potentially leading to better predictive performance and a more robust classifier, as it might prevent the model from simply predicting the majority class."
   ]
  },
  {
   "cell_type": "markdown",
   "id": "fc1b02c6",
   "metadata": {},
   "source": [
    "## Plotting new distribution of the accident_severity in the dataset"
   ]
  },
  {
   "cell_type": "code",
   "execution_count": 14,
   "id": "462c15cf",
   "metadata": {},
   "outputs": [
    {
     "data": {
      "image/png": "[encoded data removed]",
      "text/plain": [
       "<Figure size 1000x600 with 1 Axes>"
      ]
     },
     "metadata": {},
     "output_type": "display_data"
    },
    {
     "data": {
      "text/plain": [
       "{'Fatal': 9083, 'Serious': 9083, 'Slight': 9083}"
      ]
     },
     "execution_count": 14,
     "metadata": {},
     "output_type": "execute_result"
    }
   ],
   "source": [
    "import numpy as np\n",
    "import matplotlib.pyplot as plt\n",
    "\n",
    "\n",
    "# Convert y_resampled back to original labels\n",
    "y_resampled_labels = label_encoder.inverse_transform(y_resampled)\n",
    "\n",
    "# Count the instances of each class in y_resampled\n",
    "unique, counts = np.unique(y_resampled_labels, return_counts=True)\n",
    "resampled_distribution = dict(zip(unique, counts))\n",
    "\n",
    "# Plotting\n",
    "plt.figure(figsize=(10, 6))\n",
    "plt.bar(resampled_distribution.keys(), resampled_distribution.values(), color='skyblue')\n",
    "plt.xlabel('Accident Severity')\n",
    "plt.ylabel('Number of Instances')\n",
    "plt.title('Distribution of Accident Severity After SMOTE')\n",
    "plt.xticks(list(resampled_distribution.keys()))\n",
    "plt.grid(axis='y')\n",
    "\n",
    "plt.show()\n",
    "\n",
    "resampled_distribution\n"
   ]
  },
  {
   "cell_type": "markdown",
   "id": "0a9cdd8b",
   "metadata": {},
   "source": [
    "### After performing smote, we got a new dataset, where all the accident severities are equalised. "
   ]
  },
  {
   "cell_type": "markdown",
   "id": "e19d9a78",
   "metadata": {},
   "source": [
    "## Building Baseline model's"
   ]
  },
  {
   "cell_type": "markdown",
   "id": "59b24b12",
   "metadata": {},
   "source": [
    "### Let's start with building a DummyClassifier model"
   ]
  },
  {
   "cell_type": "code",
   "execution_count": 28,
   "id": "246fe4f2",
   "metadata": {},
   "outputs": [
    {
     "name": "stdout",
     "output_type": "stream",
     "text": [
      "Baseline Classifier Report:\n",
      "              precision    recall  f1-score   support\n",
      "\n",
      "           0       0.33      1.00      0.50      1811\n",
      "           1       0.00      0.00      0.00      1818\n",
      "           2       0.00      0.00      0.00      1821\n",
      "\n",
      "    accuracy                           0.33      5450\n",
      "   macro avg       0.11      0.33      0.17      5450\n",
      "weighted avg       0.11      0.33      0.17      5450\n",
      "\n",
      "Baseline Model Accuracy: 0.3322935779816514\n"
     ]
    }
   ],
   "source": [
    "from sklearn.dummy import DummyClassifier\n",
    "from sklearn.metrics import accuracy_score, classification_report\n",
    "from sklearn.model_selection import train_test_split\n",
    "\n",
    "# Initialize the Dummy Classifier\n",
    "dummy_classifier = DummyClassifier(strategy='most_frequent', random_state=42)\n",
    "\n",
    "# Assuming X_resampled and y_resampled are your features and target after SMOTE application\n",
    "X_train, X_test, y_train, y_test = train_test_split(X_resampled, y_resampled, test_size=0.2, random_state=42)\n",
    "\n",
    "# Fit the model to the training data\n",
    "dummy_classifier.fit(X_train, y_train)\n",
    "\n",
    "# Predict on the test set using the baseline model\n",
    "y_pred_dummy = dummy_classifier.predict(X_test)\n",
    "\n",
    "# Print classification report for Baseline Model\n",
    "# Set zero_division parameter to 0\n",
    "print(\"Baseline Classifier Report:\")\n",
    "print(classification_report(y_test, y_pred_dummy, zero_division=0))\n",
    "\n",
    "# Calculate accuracy for Baseline Model\n",
    "accuracy_dummy = accuracy_score(y_test, y_pred_dummy)\n",
    "print(\"Baseline Model Accuracy:\", accuracy_dummy)\n"
   ]
  },
  {
   "cell_type": "markdown",
   "id": "90eac47f",
   "metadata": {},
   "source": [
    "\n",
    "\n",
    "### The macro average and weighted average scores are also low (0.11 for precision, 0.33 for recall, and 0.17 for the F1-score), reflecting the model's poor performance across all classes. These low averages highlight the model's inability to distinguish between different classes due to its simplistic prediction strategy."
   ]
  },
  {
   "cell_type": "markdown",
   "id": "f761a724",
   "metadata": {},
   "source": [
    "### The DummyClassifier model performance is very poor with a accuracy of only 33%, hence trying to build a new basline model using different algorithm"
   ]
  },
  {
   "cell_type": "markdown",
   "id": "39ac6a96",
   "metadata": {},
   "source": [
    "### Considering LogisticRegression for baseline model"
   ]
  },
  {
   "cell_type": "code",
   "execution_count": 26,
   "id": "055e297d",
   "metadata": {},
   "outputs": [
    {
     "name": "stdout",
     "output_type": "stream",
     "text": [
      "Logistic Regression Classifier Report:\n",
      "              precision    recall  f1-score   support\n",
      "\n",
      "       Fatal       0.63      0.74      0.68      1811\n",
      "     Serious       0.46      0.39      0.42      1818\n",
      "      Slight       0.53      0.52      0.52      1821\n",
      "\n",
      "    accuracy                           0.55      5450\n",
      "   macro avg       0.54      0.55      0.54      5450\n",
      "weighted avg       0.54      0.55      0.54      5450\n",
      "\n",
      "Logistic Regression Model Accuracy: 0.5504587155963303\n"
     ]
    }
   ],
   "source": [
    "from sklearn.linear_model import LogisticRegression\n",
    "from sklearn.preprocessing import StandardScaler\n",
    "\n",
    "\n",
    "import warnings\n",
    "from sklearn.exceptions import ConvergenceWarning\n",
    "\n",
    "warnings.simplefilter('ignore', ConvergenceWarning)\n",
    "\n",
    "# Initialize the Logistic Regression classifier\n",
    "# The 'multi_class' parameter is set to 'auto' and it will choose between 'ovr' (one-vs-rest) or 'multinomial'\n",
    "# depending on the data. Solver 'lbfgs' is a good default choice.\n",
    "logistic_regression_model = LogisticRegression(multi_class='auto', solver='lbfgs', max_iter=1000, random_state=42)\n",
    "\n",
    "# Fit the model to the training data\n",
    "logistic_regression_model.fit(X_train, y_train)\n",
    "\n",
    "# Predict on the test set using the logistic regression model\n",
    "y_pred_logistic = logistic_regression_model.predict(X_test)\n",
    "\n",
    "# Print classification report for Logistic Regression Model\n",
    "print(\"Logistic Regression Classifier Report:\")\n",
    "print(classification_report(y_test, y_pred_logistic))\n",
    "\n",
    "# Calculate accuracy for Logistic Regression Model\n",
    "accuracy_logistic = accuracy_score(y_test, y_pred_logistic)\n",
    "print(\"Logistic Regression Model Accuracy:\", accuracy_logistic)\n",
    "\n",
    "\n"
   ]
  },
  {
   "cell_type": "markdown",
   "id": "92120696",
   "metadata": {},
   "source": [
    "### The performance of the logistic regression classifier is moderate, with an overall accuracy of 55.05%. The model is most effective at predicting the 'Fatal' class, with a precision of 0.63 and recall of 0.74, but is less reliable for 'Serious' and 'Slight' classes, with lower precision and recall values. The f1-scores suggest that the balance between precision and recall is best for 'Fatal' at 0.68 and is lower for the other classes. The macro and weighted averages of precision, recall, and f1-score hover around 0.54 to 0.55, indicating a consistent performance across the classes, factoring in their distribution.\n"
   ]
  },
  {
   "cell_type": "markdown",
   "id": "980ea830",
   "metadata": {},
   "source": [
    "## Building GradientBoostingClassifier model"
   ]
  },
  {
   "cell_type": "code",
   "execution_count": 20,
   "id": "27cb9064",
   "metadata": {},
   "outputs": [
    {
     "name": "stdout",
     "output_type": "stream",
     "text": [
      "Confusion Matrix:\n",
      "[[1758   20   33]\n",
      " [ 266 1068  484]\n",
      " [  20    9 1792]]\n",
      "\n",
      "Classification Report:\n",
      "              precision    recall  f1-score   support\n",
      "\n",
      "           0       0.86      0.97      0.91      1811\n",
      "           1       0.97      0.59      0.73      1818\n",
      "           2       0.78      0.98      0.87      1821\n",
      "\n",
      "    accuracy                           0.85      5450\n",
      "   macro avg       0.87      0.85      0.84      5450\n",
      "weighted avg       0.87      0.85      0.84      5450\n",
      "\n",
      "Decision Tree Model Accuracy: 0.8473394495412844\n"
     ]
    }
   ],
   "source": [
    "from sklearn.ensemble import GradientBoostingClassifier\n",
    "from sklearn.model_selection import train_test_split\n",
    "from sklearn.metrics import classification_report, confusion_matrix\n",
    "\n",
    "# Split the resampled data into training and test sets for evaluation\n",
    "X_train, X_test, y_train, y_test = train_test_split(X_resampled, y_resampled, test_size=0.2, random_state=42)\n",
    "\n",
    "# Instantiate the Gradient Boosting Classifier\n",
    "gbx = GradientBoostingClassifier(n_estimators=100, learning_rate=0.1, max_depth=3, random_state=42)\n",
    "\n",
    "# Train the model\n",
    "gbx.fit(X_train, y_train)\n",
    "\n",
    "# Make predictions\n",
    "y_pred = gbx.predict(X_test)\n",
    "\n",
    "# Evaluate the model\n",
    "print(\"Confusion Matrix:\")\n",
    "print(confusion_matrix(y_test, y_pred))\n",
    "\n",
    "print(\"\\nClassification Report:\")\n",
    "print(classification_report(y_test, y_pred))\n",
    "\n",
    "# Calculate accuracy for GradientBoostingClassifier Model\n",
    "accuracy = accuracy_score(y_test, y_pred)\n",
    "print(\"Decision Tree Model Accuracy:\", accuracy)\n"
   ]
  },
  {
   "cell_type": "markdown",
   "id": "bfe62e34",
   "metadata": {},
   "source": [
    "\n",
    "### The macro average and weighted average metrics provide an overall assessment that balances the performance across all classes, taking into account their support. These metrics (precision: 0.87, recall: 0.85, F1-score: 0.84) suggest the model is performing well across all classes when considering both the balance of the classes and the importance of each class in the dataset.\n",
    "### Overall, the model shows good predictive skills"
   ]
  },
  {
   "cell_type": "markdown",
   "id": "17d1a8c0",
   "metadata": {},
   "source": [
    "## Building a decision tree mode on the sampled data"
   ]
  },
  {
   "cell_type": "code",
   "execution_count": 21,
   "id": "ee8493e0",
   "metadata": {},
   "outputs": [
    {
     "name": "stdout",
     "output_type": "stream",
     "text": [
      "Decision Tree Classifier Report:\n",
      "              precision    recall  f1-score   support\n",
      "\n",
      "       Fatal       0.95      0.97      0.96      1811\n",
      "     Serious       0.84      0.75      0.79      1818\n",
      "      Slight       0.79      0.86      0.82      1821\n",
      "\n",
      "    accuracy                           0.86      5450\n",
      "   macro avg       0.86      0.86      0.86      5450\n",
      "weighted avg       0.86      0.86      0.86      5450\n",
      "\n",
      "Decision Tree Model Accuracy: 0.8581651376146789\n"
     ]
    }
   ],
   "source": [
    "from sklearn.tree import DecisionTreeClassifier\n",
    "from sklearn.metrics import classification_report, accuracy_score\n",
    "from sklearn.dummy import DummyClassifier\n",
    "import numpy as np\n",
    "import matplotlib.pyplot as plt\n",
    "from sklearn.model_selection import train_test_split\n",
    "from sklearn.preprocessing import LabelEncoder\n",
    "\n",
    "# Assuming X_resampled and y_resampled are already defined after SMOTE application\n",
    "# Also assuming y_resampled_labels are the target variable labels after inverse transform by LabelEncoder\n",
    "\n",
    "# Split the resampled data into training and test sets\n",
    "X_train, X_test, y_train, y_test = train_test_split(X_resampled, y_resampled_labels, test_size=0.2, random_state=42)\n",
    "\n",
    "# Initialize the Decision Tree Classifier\n",
    "decision_tree_model = DecisionTreeClassifier(random_state=42)\n",
    "\n",
    "# Fit the model to the training data\n",
    "decision_tree_model.fit(X_train, y_train)\n",
    "\n",
    "# Predict on the test set\n",
    "y_pred_tree = decision_tree_model.predict(X_test)\n",
    "\n",
    "# Print classification report for Decision Tree Model\n",
    "print(\"Decision Tree Classifier Report:\")\n",
    "print(classification_report(y_test, y_pred_tree))\n",
    "\n",
    "# Calculate accuracy for Decision Tree Model\n",
    "accuracy_tree = accuracy_score(y_test, y_pred_tree)\n",
    "print(\"Decision Tree Model Accuracy:\", accuracy_tree)\n"
   ]
  },
  {
   "cell_type": "markdown",
   "id": "212d581c",
   "metadata": {},
   "source": [
    "\n",
    "\n",
    "### Overall, the model's good performance is attributed to its high precision and recall values across all classes, indicating that it can effectively distinguish between classes and correctly classify the majority of instances. The balanced macro and weighted averages suggest that the model's predictive power is not skewed towards any particular class, which is ideal in multi-class classification scenarios."
   ]
  },
  {
   "cell_type": "markdown",
   "id": "c288bc2d",
   "metadata": {},
   "source": [
    "## Training Random Forest Model"
   ]
  },
  {
   "cell_type": "code",
   "execution_count": 23,
   "id": "0dee3e78",
   "metadata": {},
   "outputs": [
    {
     "name": "stdout",
     "output_type": "stream",
     "text": [
      "RandomForest Classifier Report:\n",
      "              precision    recall  f1-score   support\n",
      "\n",
      "       Fatal       1.00      0.98      0.99      1811\n",
      "     Serious       0.99      0.75      0.86      1818\n",
      "      Slight       0.79      0.99      0.88      1821\n",
      "\n",
      "    accuracy                           0.91      5450\n",
      "   macro avg       0.93      0.91      0.91      5450\n",
      "weighted avg       0.93      0.91      0.91      5450\n",
      "\n",
      "RandomForest Model Accuracy: 0.9102752293577981\n"
     ]
    }
   ],
   "source": [
    "from sklearn.ensemble import RandomForestClassifier\n",
    "\n",
    "# Initialize the RandomForest Classifier\n",
    "random_forest_model = RandomForestClassifier(n_estimators=100, random_state=42)\n",
    "\n",
    "# Fit the model to the training data\n",
    "random_forest_model.fit(X_train, y_train)\n",
    "\n",
    "# Predict on the test set using the RandomForest model\n",
    "y_pred_rf = random_forest_model.predict(X_test)\n",
    "\n",
    "# Print classification report for RandomForest Model\n",
    "print(\"RandomForest Classifier Report:\")\n",
    "print(classification_report(y_test, y_pred_rf))\n",
    "\n",
    "# Calculate accuracy for RandomForest Model\n",
    "accuracy_rf = accuracy_score(y_test, y_pred_rf)\n",
    "print(\"RandomForest Model Accuracy:\", accuracy_rf)\n"
   ]
  },
  {
   "cell_type": "markdown",
   "id": "04c15b05",
   "metadata": {},
   "source": [
    "### The RandomForest Classifier shows excellent performance with an overall accuracy of 91.03%. It demonstrates high precision and recall, especially for 'Fatal' cases with perfect precision. The model maintains strong results across all classes, as reflected by high macro and weighted average scores of over 0.90. This indicates that the model is not only accurate overall but also effective across different class categories, making it a highly reliable classifier for this task."
   ]
  },
  {
   "cell_type": "markdown",
   "id": "ae3131d6",
   "metadata": {},
   "source": [
    "## Reasons behind selecting the above models for this project\n",
    "### Random Forest is chosen for its robustness and high accuracy due to ensemble learning, reducing overfitting. \n",
    "### Gradient Boosting is preferred for its sequential correction of errors, improving performance iteratively. \n",
    "\n",
    "### Decision Trees offer simple, interpretable rules and ease of visualization for understanding feature importance. \n",
    "### Logistic Regression is selected for its efficiency and effectiveness in binary classification problems, providing a probabilistic interpretation of class memberships. \n",
    "### Each model provides unique insights and contributes to a comprehensive understanding of the factors influencing accident severity."
   ]
  },
  {
   "cell_type": "markdown",
   "id": "f4b6ee92",
   "metadata": {},
   "source": [
    "## Comparing and evaluating the models"
   ]
  },
  {
   "cell_type": "code",
   "execution_count": 27,
   "id": "7d6d40e9",
   "metadata": {},
   "outputs": [
    {
     "data": {
      "image/png": "[encoded data removed]",
      "text/plain": [
       "<Figure size 1000x600 with 1 Axes>"
      ]
     },
     "metadata": {},
     "output_type": "display_data"
    }
   ],
   "source": [
    "\n",
    "accuracy_gradient_boosting = 0.84  \n",
    "accuracy_decision_tree = 0.85  \n",
    "accuracy_random_forest = 0.91  \n",
    "\n",
    "# Create a DataFrame for comparison\n",
    "model_comparisons = pd.DataFrame({\n",
    "    'Model': ['Gradient Boosting', 'Decision Tree', 'Random Forest'],\n",
    "    'Accuracy': [accuracy_gradient_boosting, accuracy_decision_tree, accuracy_random_forest]\n",
    "})\n",
    "\n",
    "# Plot the accuracies for comparison\n",
    "plt.figure(figsize=(10, 6))\n",
    "barplot = plt.bar(model_comparisons['Model'], model_comparisons['Accuracy'], color=['blue', 'green', 'red'])\n",
    "\n",
    "for bar in barplot:\n",
    "    yval = bar.get_height()\n",
    "    plt.text(bar.get_x() + bar.get_width()/2, yval + 0.01, round(yval, 3), ha='center', va='bottom')\n",
    "\n",
    "plt.xlabel('Model')\n",
    "plt.ylabel('Accuracy')\n",
    "plt.title('Model Performance Comparison')\n",
    "plt.ylim([0.5, 1.0])  \n",
    "\n",
    "plt.grid(axis='y', linestyle='--', alpha=0.7)\n",
    "\n",
    "plt.show()\n"
   ]
  },
  {
   "cell_type": "markdown",
   "id": "8db5a00b",
   "metadata": {},
   "source": [
    "### The bar chart compares the accuracy of three different models: Gradient Boosting, Decision Tree, and Random Forest. Random Forest leads with the highest accuracy at 0.91, followed by the Decision Tree model at 0.85, and Gradient Boosting with an accuracy of 0.84. \n",
    "\n",
    "### Random Forest, being an ensemble of decision trees, typically outperforms individual decision trees by reducing overfitting and increasing the model's ability to generalize to new data. Its superiority in this comparison suggests it has effectively leveraged the strengths of multiple decision trees to capture the underlying patterns in the data.\n",
    "\n",
    "### The Decision Tree model, while less accurate than Random Forest, still performs reasonably well, which is a testament to its ability to capture the decision boundaries. However, it might be overfitting the training data or lacking the complexity to fully capture the data's nuances.\n",
    "\n",
    "### Gradient Boosting, another ensemble method that builds trees sequentially with each tree trying to correct the errors of the previous ones, shows the least accuracy here. This might be due to suboptimal hyperparameter settings or it could be that the model hasn't converged well.\n",
    "\n",
    "### Overall, the Random Forest model exhibits the best fitness for the given data, striking a balance between bias and variance, and effectively improving upon the limitations of a single Decision Tree and the Gradient Boosting model in this particular scenario."
   ]
  },
  {
   "cell_type": "markdown",
   "id": "d97bce40",
   "metadata": {},
   "source": [
    "## Recommendations for car manufacturing company"
   ]
  },
  {
   "cell_type": "markdown",
   "id": "d925a81f",
   "metadata": {},
   "source": [
    "### By studying the visualisation from the group assignment and from the above models, we get some insights about what can be improved in a car to reduce the accident casualties and severity:\n",
    "\n",
    "### Enhance Safety in High-Engine Capacity Vehicles: The data indicates that vehicles with larger engines are often involved in more severe accidents. It is recommended that manufacturers focus on reinforcing the safety features of these vehicles, perhaps through advanced structural design and improved passive safety systems.\n",
    "\n",
    "### Address Vehicle Age Safety Degradation: Older vehicles appear more frequently in serious accidents, suggesting the need for initiatives that promote updating older vehicles with new safety technologies. This could include incentive programs for upgrades and retrofits.\n",
    "\n",
    "### Strengthen Frontal Impact Protection: Frontal impacts are common and lead to various severity levels. Reinforcing the front of the vehicles with superior materials and technology could greatly enhance safety. Considerations might include better-designed crumple zones and state-of-the-art airbag systems.\n",
    "\n",
    "### Innovate for Intersection Safety: Intersections are identified as common accident sites. Implementing and improving upon intersection-specific safety measures, like ADAS with enhanced detection and braking features, could help mitigate these accidents.\n",
    "\n",
    "### Incorporating these recommendations into vehicle design and safety strategies could significantly reduce accident severity, showcasing the manufacturer's dedication to safety, potentially increasing consumer trust and strengthening the company's market position."
   ]
  }
 ],
 "metadata": {
  "kernelspec": {
   "display_name": "Python 3 (ipykernel)",
   "language": "python",
   "name": "python3"
  },
  "language_info": {
   "codemirror_mode": {
    "name": "ipython",
    "version": 3
   },
   "file_extension": ".py",
   "mimetype": "text/x-python",
   "name": "python",
   "nbconvert_exporter": "python",
   "pygments_lexer": "ipython3",
   "version": "3.11.3"
  }
 },
 "nbformat": 4,
 "nbformat_minor": 5
}
